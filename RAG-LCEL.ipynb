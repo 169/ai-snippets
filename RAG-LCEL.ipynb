{
 "cells": [
  {
   "cell_type": "markdown",
   "id": "3bc2bc66-9510-4b18-945d-973378ea287f",
   "metadata": {},
   "source": [
    "## Load Documents"
   ]
  },
  {
   "cell_type": "code",
   "execution_count": 1,
   "id": "7a8a4a57-f95d-4072-9fd6-d989928298c1",
   "metadata": {},
   "outputs": [
    {
     "name": "stdout",
     "output_type": "stream",
     "text": [
      "he 2022 FIFA World Cup was the 22nd FIFA World Cup, the world championship for national football teams organized by FIFA. It took place in Qatar from 20 November to 18 December 2022, after the country was awarded the hosting rights in 2010.\n",
      "\n",
      "Argentina were crowned the champions after winning the final against the title holder France 4–2 on penalties following a 3–3 draw after extra time.\n"
     ]
    }
   ],
   "source": [
    "from langchain_community.document_loaders import UnstructuredMarkdownLoader\n",
    "loader = UnstructuredMarkdownLoader('fifa/2022.md')\n",
    "docs = loader.load()\n",
    "!cat fifa/2022.md"
   ]
  },
  {
   "cell_type": "markdown",
   "id": "953fc9d4-b7fc-4cf2-9661-df3b63557e5d",
   "metadata": {},
   "source": [
    "## Split documents"
   ]
  },
  {
   "cell_type": "code",
   "execution_count": 2,
   "id": "6dc83f65-5b73-4136-8cae-b6c58cb88aed",
   "metadata": {},
   "outputs": [],
   "source": [
    "from langchain.text_splitter import RecursiveCharacterTextSplitter\n",
    "\n",
    "\n",
    "text_splitter = RecursiveCharacterTextSplitter()\n",
    "documents = text_splitter.split_documents(docs)"
   ]
  },
  {
   "cell_type": "markdown",
   "id": "79b83071-9c85-46ce-a8c7-a20bf2252fe9",
   "metadata": {},
   "source": [
    "## Index Documents"
   ]
  },
  {
   "cell_type": "code",
   "execution_count": 3,
   "id": "f57c1d99-5ab8-46fb-8c60-1fcc0bf90355",
   "metadata": {},
   "outputs": [],
   "source": [
    "from langchain_openai import OpenAIEmbeddings\n",
    "from langchain_community.vectorstores import FAISS\n",
    "\n",
    "embeddings = OpenAIEmbeddings()\n",
    "vector = FAISS.from_documents(documents, embeddings)"
   ]
  },
  {
   "cell_type": "markdown",
   "id": "d3bd3443-1e28-4561-9b57-36d978ce1547",
   "metadata": {},
   "source": [
    "## RAG prompt"
   ]
  },
  {
   "cell_type": "code",
   "execution_count": 4,
   "id": "8e4e785d-186f-46b8-8f25-faa6efb5e2f4",
   "metadata": {},
   "outputs": [],
   "source": [
    "from langchain_openai import ChatOpenAI\n",
    "from langchain_core.prompts import ChatPromptTemplate\n",
    "\n",
    "prompt = ChatPromptTemplate.from_template(\"\"\"Answer the following question based only on the provided context:\n",
    "\n",
    "<context>\n",
    "{context}\n",
    "</context>\n",
    "\n",
    "Question: {input}\"\"\")\n",
    "llm = ChatOpenAI()"
   ]
  },
  {
   "cell_type": "markdown",
   "id": "4a563e6e-8190-471a-9f58-e58af09928b1",
   "metadata": {},
   "source": [
    "## RAG chain"
   ]
  },
  {
   "cell_type": "code",
   "execution_count": 5,
   "id": "08312246-1332-4e31-9c8f-2aac74064f7c",
   "metadata": {},
   "outputs": [],
   "source": [
    "from langchain_core.runnables import RunnableParallel, RunnablePassthrough\n",
    "from langchain_core.output_parsers import StrOutputParser\n",
    "\n",
    "retriever = vector.as_retriever()\n",
    "chain = (\n",
    "    RunnableParallel({\"context\": retriever, \"input\": RunnablePassthrough()})\n",
    "    | prompt\n",
    "    | llm\n",
    "    | StrOutputParser()\n",
    ")"
   ]
  },
  {
   "cell_type": "code",
   "execution_count": 6,
   "id": "9a9de0d5-e33a-4427-a846-1b42ca5a7aa9",
   "metadata": {},
   "outputs": [
    {
     "name": "stdout",
     "output_type": "stream",
     "text": [
      "Argentina won the championship of the 22nd FIFA World Cup.\n"
     ]
    }
   ],
   "source": [
    "answer = chain.invoke(\"Which country won the championship of the 22nd FIFA World Cup?\")\n",
    "print(answer)"
   ]
  },
  {
   "cell_type": "code",
   "execution_count": 7,
   "id": "11095dc3-f815-40be-8fe3-c50fd72fcd36",
   "metadata": {},
   "outputs": [
    {
     "name": "stdout",
     "output_type": "stream",
     "text": [
      "Based on the provided context, there is no information about the winner of the 23rd FIFA World Cup.\n"
     ]
    }
   ],
   "source": [
    "answer = chain.invoke(\"Which country won the championship of the 23rd FIFA World Cup?\")\n",
    "print(answer)"
   ]
  },
  {
   "cell_type": "code",
   "execution_count": 8,
   "id": "14a07101-42ce-4fa6-85ba-4b632f7c8a01",
   "metadata": {},
   "outputs": [
    {
     "name": "stdout",
     "output_type": "stream",
     "text": [
      "In the 23rd FIFA World Cup held in 2026, the final match featured Argentina and France, In the end, France won 2:1 to clinch the championship.\n"
     ]
    }
   ],
   "source": [
    "from langchain_community.document_loaders import TextLoader\n",
    "\n",
    "loader = TextLoader(\"fifa/2026.txt\")\n",
    "docs = loader.load()\n",
    "documents2 = text_splitter.split_documents(docs)\n",
    "!cat fifa/2026.txt"
   ]
  },
  {
   "cell_type": "code",
   "execution_count": 9,
   "id": "c23f4e02-cb43-4c01-8756-b1a92ad95ee7",
   "metadata": {},
   "outputs": [],
   "source": [
    "vector2 = FAISS.from_documents(documents2 + documents, embeddings)\n",
    "retriever2 = vector2.as_retriever()\n",
    "chain2 = (\n",
    "    RunnableParallel({\"context\": retriever2, \"input\": RunnablePassthrough()})\n",
    "    | prompt\n",
    "    | llm\n",
    "    | StrOutputParser()\n",
    ")"
   ]
  },
  {
   "cell_type": "code",
   "execution_count": 10,
   "id": "78cbcef5-43e7-4e8d-89c6-01030009120b",
   "metadata": {},
   "outputs": [
    {
     "name": "stdout",
     "output_type": "stream",
     "text": [
      "Argentina\n"
     ]
    }
   ],
   "source": [
    "answer = chain2.invoke(\"Which country won the championship of the 22nd FIFA World Cup?\")\n",
    "print(answer)"
   ]
  },
  {
   "cell_type": "code",
   "execution_count": 11,
   "id": "145a3834-84b5-4a63-9c21-dcfb6903e1e3",
   "metadata": {},
   "outputs": [
    {
     "name": "stdout",
     "output_type": "stream",
     "text": [
      "France\n"
     ]
    }
   ],
   "source": [
    "answer = chain2.invoke(\"Which country won the championship of the 23rd FIFA World Cup?\")\n",
    "print(answer)"
   ]
  }
 ],
 "metadata": {
  "kernelspec": {
   "display_name": "Python 3 (ipykernel)",
   "language": "python",
   "name": "python3"
  },
  "language_info": {
   "codemirror_mode": {
    "name": "ipython",
    "version": 3
   },
   "file_extension": ".py",
   "mimetype": "text/x-python",
   "name": "python",
   "nbconvert_exporter": "python",
   "pygments_lexer": "ipython3",
   "version": "3.11.6"
  }
 },
 "nbformat": 4,
 "nbformat_minor": 5
}
